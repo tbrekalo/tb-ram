{
 "cells": [
  {
   "cell_type": "code",
   "execution_count": 1,
   "metadata": {},
   "outputs": [],
   "source": [
    "import polars as pl\n",
    "import pandas as pd\n",
    "import pysam\n",
    "\n",
    "import util"
   ]
  },
  {
   "cell_type": "code",
   "execution_count": 2,
   "metadata": {},
   "outputs": [],
   "source": [
    "SAMPLE_PATH = \"/storage2/tbrekalo/HG002-simulated/chr19-sample.fasta\"\n",
    "\n",
    "MINIMAP2_OVLPS_PATH = \"/storage2/tbrekalo/HG002-simulated/chr19-sample-ovlps-minimap2.paf\"\n",
    "ORIGINS_PATH = \"/storage2/tbrekalo/HG002-simulated/chr19-read-origins.csv\"\n",
    "\n",
    "MATCHES_PATH = \"/storage2/tbrekalo/HG002-simulated/chr19-sample-ram-matches.tsv\"\n",
    "MATCHES_PATH_NO_FILTER = (\n",
    "    \"/storage2/tbrekalo/HG002-simulated/chr19-sample-ram-matches-no-filter.tsv\"\n",
    ")\n",
    "\n",
    "CHAINS_PATH = \"/storage2/tbrekalo/HG002-simulated/chr19-sample-ram-chains.tsv\"\n",
    "CHAINS_PATH_NO_FILTER = (\n",
    "    \"/storage2/tbrekalo/HG002-simulated/chr19-sample-ram-chains-no-filter.tsv\"\n",
    ")"
   ]
  },
  {
   "cell_type": "code",
   "execution_count": 3,
   "metadata": {},
   "outputs": [],
   "source": [
    "reads = pysam.FastaFile(SAMPLE_PATH)"
   ]
  },
  {
   "cell_type": "code",
   "execution_count": 4,
   "metadata": {},
   "outputs": [],
   "source": [
    "df_origins = util.load_origins_df(ORIGINS_PATH)\n",
    "df_chains = util.load_chains_df(CHAINS_PATH)\n",
    "df_chains_no_filter = util.load_chains_df(CHAINS_PATH_NO_FILTER)\n",
    "df_overlaps_minimap2 = util.load_paf_df(MINIMAP2_OVLPS_PATH)"
   ]
  },
  {
   "cell_type": "code",
   "execution_count": 5,
   "metadata": {},
   "outputs": [],
   "source": [
    "def create_chain_annotations(\n",
    "    df_chains: pl.DataFrame, df_origins: pl.DataFrame\n",
    ") -> pl.DataFrame:\n",
    "    return util.calc_ava_origin_overlap(\n",
    "        util.expand_ava_with_origin_info(\n",
    "            df_ava=util.create_overlaps_from_chains(df_chains),\n",
    "            df_origins=df_origins,\n",
    "        )\n",
    "    ).select(\n",
    "        pl.col(\"chain-id\"),\n",
    "        ((pl.col(\"ratio\") > 0.875) & pl.col(\"matching-strands\")).alias(\"label\"),\n",
    "    )"
   ]
  },
  {
   "cell_type": "code",
   "execution_count": 6,
   "metadata": {},
   "outputs": [],
   "source": [
    "df_chains_annotations = create_chain_annotations(df_chains, df_origins)"
   ]
  },
  {
   "cell_type": "code",
   "execution_count": 7,
   "metadata": {},
   "outputs": [],
   "source": [
    "df_chains_no_filter_annotations = create_chain_annotations(df_chains_no_filter, df_origins)"
   ]
  },
  {
   "cell_type": "code",
   "execution_count": 8,
   "metadata": {},
   "outputs": [],
   "source": [
    "df_overlaps_minimap2_annotated = util.create_annotated_overlaps_from_ava(df_overlaps_minimap2, df_origins)"
   ]
  },
  {
   "cell_type": "code",
   "execution_count": 11,
   "metadata": {},
   "outputs": [
    {
     "name": "stdout",
     "output_type": "stream",
     "text": [
      "shape: (2, 1)\n",
      "┌────────────────┐\n",
      "│ label          │\n",
      "│ ---            │\n",
      "│ struct[2]      │\n",
      "╞════════════════╡\n",
      "│ {true,203}     │\n",
      "│ {false,125920} │\n",
      "└────────────────┘\n",
      "shape: (2, 1)\n",
      "┌─────────────────┐\n",
      "│ label           │\n",
      "│ ---             │\n",
      "│ struct[2]       │\n",
      "╞═════════════════╡\n",
      "│ {true,391}      │\n",
      "│ {false,3252946} │\n",
      "└─────────────────┘\n",
      "shape: (2, 1)\n",
      "┌────────────┐\n",
      "│ label      │\n",
      "│ ---        │\n",
      "│ struct[2]  │\n",
      "╞════════════╡\n",
      "│ {0,296419} │\n",
      "│ {1,11923}  │\n",
      "└────────────┘\n"
     ]
    }
   ],
   "source": [
    "print(df_chains_annotations.select(pl.col(\"label\").value_counts()))\n",
    "print(df_chains_no_filter_annotations.select(pl.col(\"label\").value_counts()))\n",
    "print(df_overlaps_minimap2_annotated.select(pl.col(\"label\").value_counts()))"
   ]
  },
  {
   "cell_type": "code",
   "execution_count": null,
   "metadata": {},
   "outputs": [],
   "source": [
    "df_chains_overlaps = util.create_overlaps_from_chains(df_chains).join(\n",
    "    df_chains_annotations,\n",
    "    on=\"chain-id\",\n",
    ")\n",
    "# .filter(\n",
    "#     pl.col(\"is-true-positive\"),\n",
    "# )\n",
    "\n",
    "df_chains_no_filter_overlaps = util.create_overlaps_from_chains(df_chains_no_filter).join(\n",
    "    df_chains_no_filter_annotations,\n",
    "    on=\"chain-id\",\n",
    ")\n",
    "# .filter(\n",
    "#     pl.col(\"is-true-positive\"),\n",
    "# )"
   ]
  },
  {
   "cell_type": "code",
   "execution_count": null,
   "metadata": {},
   "outputs": [],
   "source": [
    "print(df_overlaps_minimap2.shape)\n",
    "print(df_chains_overlaps.shape)\n",
    "print(df_chains_no_filter_overlaps.shape)"
   ]
  },
  {
   "cell_type": "code",
   "execution_count": null,
   "metadata": {},
   "outputs": [],
   "source": [
    "def project_chain_ovlps(df: pl.DataFrame):\n",
    "    columns = [\n",
    "        # \"chain-id\",\n",
    "        \"query-name\",\n",
    "        \"query-start\",\n",
    "        \"query-end\",\n",
    "        \"strand\",\n",
    "        \"target-name\",\n",
    "        \"target-start\",\n",
    "        \"target-end\",\n",
    "    ]\n",
    "    return df.select(columns).sort(by=columns[1:])"
   ]
  },
  {
   "cell_type": "code",
   "execution_count": null,
   "metadata": {},
   "outputs": [],
   "source": [
    "print(project_chain_ovlps(df_chains_overlaps).write_csv())"
   ]
  },
  {
   "cell_type": "code",
   "execution_count": null,
   "metadata": {},
   "outputs": [],
   "source": [
    "print(project_chain_ovlps(df_chains_no_filter_overlaps).write_csv())"
   ]
  }
 ],
 "metadata": {
  "kernelspec": {
   "display_name": "venv",
   "language": "python",
   "name": "python3"
  },
  "language_info": {
   "codemirror_mode": {
    "name": "ipython",
    "version": 3
   },
   "file_extension": ".py",
   "mimetype": "text/x-python",
   "name": "python",
   "nbconvert_exporter": "python",
   "pygments_lexer": "ipython3",
   "version": "3.11.4"
  }
 },
 "nbformat": 4,
 "nbformat_minor": 2
}
