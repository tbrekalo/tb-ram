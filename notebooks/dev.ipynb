{
 "cells": [
  {
   "cell_type": "code",
   "execution_count": 1,
   "metadata": {},
   "outputs": [
    {
     "name": "stdout",
     "output_type": "stream",
     "text": [
      "pandas-version: 2.2.0\n",
      "polars-version: 0.20.6\n"
     ]
    }
   ],
   "source": [
    "import pandas as pd\n",
    "import polars as pl\n",
    "import matplotlib.pyplot as plt\n",
    "import seaborn as sns\n",
    "\n",
    "import common\n",
    "\n",
    "print(f\"pandas-version: {pd.__version__}\")\n",
    "print(f\"polars-version: {pl.__version__}\")"
   ]
  },
  {
   "cell_type": "code",
   "execution_count": 2,
   "metadata": {},
   "outputs": [],
   "source": [
    "READ_ORIGINS=\"/storage2/tbrekalo/HG002-simulated/chr19-read-origins.csv\"\n",
    "REF_MAP_PATH=\"/storage2/tbrekalo/HG002-simulated/chr19-ref.paf\"\n",
    "CHAINS_PATH=\"/home/tbrekalo/dev/tb-ram/dev-data/HG002/chr19-sim-sample-chain.tsv\""
   ]
  },
  {
   "cell_type": "code",
   "execution_count": 3,
   "metadata": {},
   "outputs": [],
   "source": [
    "df_ovlps = common.load_paf_df(REF_MAP_PATH)\n",
    "df_chains = common.load_chains_df(CHAINS_PATH)\n",
    "df_origins = common.load_origins_df(READ_ORIGINS)"
   ]
  },
  {
   "cell_type": "code",
   "execution_count": 4,
   "metadata": {},
   "outputs": [
    {
     "data": {
      "text/html": [
       "<div><style>\n",
       ".dataframe > thead > tr,\n",
       ".dataframe > tbody > tr {\n",
       "  text-align: right;\n",
       "  white-space: pre-wrap;\n",
       "}\n",
       "</style>\n",
       "<small>shape: (2, 4)</small><table border=\"1\" class=\"dataframe\"><thead><tr><th>query-name</th><th>origin-strand</th><th>origin-start</th><th>origin-end</th></tr><tr><td>str</td><td>str</td><td>i64</td><td>i64</td></tr></thead><tbody><tr><td>&quot;S1_1_chr19&quot;</td><td>&quot;+&quot;</td><td>12359039</td><td>12380709</td></tr><tr><td>&quot;S1_2_chr19&quot;</td><td>&quot;-&quot;</td><td>22068820</td><td>22087583</td></tr></tbody></table></div>"
      ],
      "text/plain": [
       "shape: (2, 4)\n",
       "┌────────────┬───────────────┬──────────────┬────────────┐\n",
       "│ query-name ┆ origin-strand ┆ origin-start ┆ origin-end │\n",
       "│ ---        ┆ ---           ┆ ---          ┆ ---        │\n",
       "│ str        ┆ str           ┆ i64          ┆ i64        │\n",
       "╞════════════╪═══════════════╪══════════════╪════════════╡\n",
       "│ S1_1_chr19 ┆ +             ┆ 12359039     ┆ 12380709   │\n",
       "│ S1_2_chr19 ┆ -             ┆ 22068820     ┆ 22087583   │\n",
       "└────────────┴───────────────┴──────────────┴────────────┘"
      ]
     },
     "execution_count": 4,
     "metadata": {},
     "output_type": "execute_result"
    }
   ],
   "source": [
    "df_origins.head(2)"
   ]
  },
  {
   "cell_type": "code",
   "execution_count": 6,
   "metadata": {},
   "outputs": [],
   "source": [
    "df_chain_ovlps = common.create_annotated_overlaps_from_chains(\n",
    "    df_chains,\n",
    "    df_origins,\n",
    ")"
   ]
  },
  {
   "cell_type": "code",
   "execution_count": 9,
   "metadata": {},
   "outputs": [
    {
     "data": {
      "text/html": [
       "<div><style>\n",
       ".dataframe > thead > tr,\n",
       ".dataframe > tbody > tr {\n",
       "  text-align: right;\n",
       "  white-space: pre-wrap;\n",
       "}\n",
       "</style>\n",
       "<small>shape: (174_300, 12)</small><table border=\"1\" class=\"dataframe\"><thead><tr><th>chain-id</th><th>query-name</th><th>query-start</th><th>query-end</th><th>strand</th><th>target-name</th><th>target-start</th><th>target-end</th><th>origin-strand</th><th>origin-start</th><th>origin-end</th><th>ratio</th></tr><tr><td>i64</td><td>str</td><td>i64</td><td>i64</td><td>str</td><td>str</td><td>i64</td><td>i64</td><td>str</td><td>i64</td><td>i64</td><td>f64</td></tr></thead><tbody><tr><td>135049</td><td>&quot;S1_74636_chr19…</td><td>0</td><td>22916</td><td>&quot;-&quot;</td><td>&quot;chr19_MATERNAL…</td><td>24414492</td><td>24437404</td><td>&quot;-&quot;</td><td>24414488</td><td>24437415</td><td>0.999346</td></tr><tr><td>75156</td><td>&quot;S1_61676_chr19…</td><td>0</td><td>22839</td><td>&quot;-&quot;</td><td>&quot;chr19_MATERNAL…</td><td>20039568</td><td>20062405</td><td>&quot;-&quot;</td><td>20039566</td><td>20062418</td><td>0.999344</td></tr><tr><td>93268</td><td>&quot;S1_59562_chr19…</td><td>0</td><td>22643</td><td>&quot;-&quot;</td><td>&quot;chr19_MATERNAL…</td><td>59015145</td><td>59037785</td><td>&quot;-&quot;</td><td>59015142</td><td>59037797</td><td>0.999338</td></tr><tr><td>29783</td><td>&quot;S1_30080_chr19…</td><td>1</td><td>23552</td><td>&quot;-&quot;</td><td>&quot;chr19_MATERNAL…</td><td>34325382</td><td>34348925</td><td>&quot;-&quot;</td><td>34325374</td><td>34348933</td><td>0.999321</td></tr><tr><td>79694</td><td>&quot;S1_7330_chr19&quot;</td><td>0</td><td>21901</td><td>&quot;-&quot;</td><td>&quot;chr19_MATERNAL…</td><td>59157251</td><td>59179151</td><td>&quot;-&quot;</td><td>59157250</td><td>59179165</td><td>0.999316</td></tr><tr><td>50820</td><td>&quot;S1_89491_chr19…</td><td>0</td><td>22466</td><td>&quot;+&quot;</td><td>&quot;chr19_MATERNAL…</td><td>42058864</td><td>42081317</td><td>&quot;+&quot;</td><td>42058864</td><td>42081333</td><td>0.999288</td></tr><tr><td>144735</td><td>&quot;S1_72553_chr19…</td><td>0</td><td>21012</td><td>&quot;+&quot;</td><td>&quot;chr19_MATERNAL…</td><td>38410198</td><td>38431207</td><td>&quot;+&quot;</td><td>38410198</td><td>38431222</td><td>0.999287</td></tr><tr><td>50458</td><td>&quot;S1_127_chr19&quot;</td><td>0</td><td>20789</td><td>&quot;+&quot;</td><td>&quot;chr19_MATERNAL…</td><td>9253801</td><td>9274587</td><td>&quot;+&quot;</td><td>9253801</td><td>9274602</td><td>0.999279</td></tr><tr><td>106239</td><td>&quot;S1_71475_chr19…</td><td>2</td><td>23450</td><td>&quot;+&quot;</td><td>&quot;chr19_MATERNAL…</td><td>31291888</td><td>31315338</td><td>&quot;+&quot;</td><td>31291886</td><td>31315353</td><td>0.999276</td></tr><tr><td>35096</td><td>&quot;S1_31498_chr19…</td><td>2</td><td>23355</td><td>&quot;-&quot;</td><td>&quot;chr19_MATERNAL…</td><td>24484259</td><td>24507625</td><td>&quot;-&quot;</td><td>24484259</td><td>24507642</td><td>0.999273</td></tr><tr><td>6970</td><td>&quot;S1_7880_chr19&quot;</td><td>0</td><td>22931</td><td>&quot;-&quot;</td><td>&quot;chr19_MATERNAL…</td><td>15549568</td><td>15572493</td><td>&quot;-&quot;</td><td>15549560</td><td>15572502</td><td>0.999259</td></tr><tr><td>44697</td><td>&quot;S1_14729_chr19…</td><td>0</td><td>21394</td><td>&quot;+&quot;</td><td>&quot;chr19_MATERNAL…</td><td>55277673</td><td>55299064</td><td>&quot;+&quot;</td><td>55277673</td><td>55299080</td><td>0.999253</td></tr><tr><td>&hellip;</td><td>&hellip;</td><td>&hellip;</td><td>&hellip;</td><td>&hellip;</td><td>&hellip;</td><td>&hellip;</td><td>&hellip;</td><td>&hellip;</td><td>&hellip;</td><td>&hellip;</td><td>&hellip;</td></tr><tr><td>174288</td><td>&quot;S1_92624_chr19…</td><td>16267</td><td>18676</td><td>&quot;+&quot;</td><td>&quot;chr19_MATERNAL…</td><td>57199996</td><td>57202084</td><td>&quot;-&quot;</td><td>56932363</td><td>56951620</td><td>0.0</td></tr><tr><td>174289</td><td>&quot;S1_92624_chr19…</td><td>18761</td><td>19241</td><td>&quot;+&quot;</td><td>&quot;chr19_MATERNAL…</td><td>57203643</td><td>57204125</td><td>&quot;-&quot;</td><td>56932363</td><td>56951620</td><td>0.0</td></tr><tr><td>174290</td><td>&quot;S1_92624_chr19…</td><td>12628</td><td>13343</td><td>&quot;+&quot;</td><td>&quot;chr19_MATERNAL…</td><td>57203613</td><td>57204324</td><td>&quot;-&quot;</td><td>56932363</td><td>56951620</td><td>0.0</td></tr><tr><td>174291</td><td>&quot;S1_92624_chr19…</td><td>16209</td><td>18676</td><td>&quot;+&quot;</td><td>&quot;chr19_MATERNAL…</td><td>57220282</td><td>57222465</td><td>&quot;-&quot;</td><td>56932363</td><td>56951620</td><td>0.0</td></tr><tr><td>174292</td><td>&quot;S1_92624_chr19…</td><td>16327</td><td>17657</td><td>&quot;+&quot;</td><td>&quot;chr19_MATERNAL…</td><td>57233859</td><td>57235176</td><td>&quot;-&quot;</td><td>56932363</td><td>56951620</td><td>0.0</td></tr><tr><td>174293</td><td>&quot;S1_92624_chr19…</td><td>15464</td><td>18676</td><td>&quot;+&quot;</td><td>&quot;chr19_MATERNAL…</td><td>57256797</td><td>57259282</td><td>&quot;-&quot;</td><td>56932363</td><td>56951620</td><td>0.0</td></tr><tr><td>174294</td><td>&quot;S1_92624_chr19…</td><td>8241</td><td>9105</td><td>&quot;+&quot;</td><td>&quot;chr19_MATERNAL…</td><td>57274577</td><td>57275427</td><td>&quot;-&quot;</td><td>56932363</td><td>56951620</td><td>0.0</td></tr><tr><td>174295</td><td>&quot;S1_92624_chr19…</td><td>16575</td><td>17657</td><td>&quot;+&quot;</td><td>&quot;chr19_MATERNAL…</td><td>57289457</td><td>57290830</td><td>&quot;-&quot;</td><td>56932363</td><td>56951620</td><td>0.0</td></tr><tr><td>174296</td><td>&quot;S1_92624_chr19…</td><td>15439</td><td>18676</td><td>&quot;+&quot;</td><td>&quot;chr19_MATERNAL…</td><td>57321894</td><td>57324334</td><td>&quot;-&quot;</td><td>56932363</td><td>56951620</td><td>0.0</td></tr><tr><td>174297</td><td>&quot;S1_92624_chr19…</td><td>17261</td><td>18676</td><td>&quot;+&quot;</td><td>&quot;chr19_MATERNAL…</td><td>57335142</td><td>57336237</td><td>&quot;-&quot;</td><td>56932363</td><td>56951620</td><td>0.0</td></tr><tr><td>174298</td><td>&quot;S1_92624_chr19…</td><td>7759</td><td>8096</td><td>&quot;+&quot;</td><td>&quot;chr19_MATERNAL…</td><td>57831198</td><td>57831516</td><td>&quot;-&quot;</td><td>56932363</td><td>56951620</td><td>0.0</td></tr><tr><td>174299</td><td>&quot;S1_92624_chr19…</td><td>6112</td><td>6990</td><td>&quot;+&quot;</td><td>&quot;chr19_MATERNAL…</td><td>60448331</td><td>60449189</td><td>&quot;-&quot;</td><td>56932363</td><td>56951620</td><td>0.0</td></tr></tbody></table></div>"
      ],
      "text/plain": [
       "shape: (174_300, 12)\n",
       "┌──────────┬────────────┬───────────┬───────────┬───┬───────────┬───────────┬───────────┬──────────┐\n",
       "│ chain-id ┆ query-name ┆ query-sta ┆ query-end ┆ … ┆ origin-st ┆ origin-st ┆ origin-en ┆ ratio    │\n",
       "│ ---      ┆ ---        ┆ rt        ┆ ---       ┆   ┆ rand      ┆ art       ┆ d         ┆ ---      │\n",
       "│ i64      ┆ str        ┆ ---       ┆ i64       ┆   ┆ ---       ┆ ---       ┆ ---       ┆ f64      │\n",
       "│          ┆            ┆ i64       ┆           ┆   ┆ str       ┆ i64       ┆ i64       ┆          │\n",
       "╞══════════╪════════════╪═══════════╪═══════════╪═══╪═══════════╪═══════════╪═══════════╪══════════╡\n",
       "│ 135049   ┆ S1_74636_c ┆ 0         ┆ 22916     ┆ … ┆ -         ┆ 24414488  ┆ 24437415  ┆ 0.999346 │\n",
       "│          ┆ hr19       ┆           ┆           ┆   ┆           ┆           ┆           ┆          │\n",
       "│ 75156    ┆ S1_61676_c ┆ 0         ┆ 22839     ┆ … ┆ -         ┆ 20039566  ┆ 20062418  ┆ 0.999344 │\n",
       "│          ┆ hr19       ┆           ┆           ┆   ┆           ┆           ┆           ┆          │\n",
       "│ 93268    ┆ S1_59562_c ┆ 0         ┆ 22643     ┆ … ┆ -         ┆ 59015142  ┆ 59037797  ┆ 0.999338 │\n",
       "│          ┆ hr19       ┆           ┆           ┆   ┆           ┆           ┆           ┆          │\n",
       "│ 29783    ┆ S1_30080_c ┆ 1         ┆ 23552     ┆ … ┆ -         ┆ 34325374  ┆ 34348933  ┆ 0.999321 │\n",
       "│          ┆ hr19       ┆           ┆           ┆   ┆           ┆           ┆           ┆          │\n",
       "│ 79694    ┆ S1_7330_ch ┆ 0         ┆ 21901     ┆ … ┆ -         ┆ 59157250  ┆ 59179165  ┆ 0.999316 │\n",
       "│          ┆ r19        ┆           ┆           ┆   ┆           ┆           ┆           ┆          │\n",
       "│ …        ┆ …          ┆ …         ┆ …         ┆ … ┆ …         ┆ …         ┆ …         ┆ …        │\n",
       "│ 174295   ┆ S1_92624_c ┆ 16575     ┆ 17657     ┆ … ┆ -         ┆ 56932363  ┆ 56951620  ┆ 0.0      │\n",
       "│          ┆ hr19       ┆           ┆           ┆   ┆           ┆           ┆           ┆          │\n",
       "│ 174296   ┆ S1_92624_c ┆ 15439     ┆ 18676     ┆ … ┆ -         ┆ 56932363  ┆ 56951620  ┆ 0.0      │\n",
       "│          ┆ hr19       ┆           ┆           ┆   ┆           ┆           ┆           ┆          │\n",
       "│ 174297   ┆ S1_92624_c ┆ 17261     ┆ 18676     ┆ … ┆ -         ┆ 56932363  ┆ 56951620  ┆ 0.0      │\n",
       "│          ┆ hr19       ┆           ┆           ┆   ┆           ┆           ┆           ┆          │\n",
       "│ 174298   ┆ S1_92624_c ┆ 7759      ┆ 8096      ┆ … ┆ -         ┆ 56932363  ┆ 56951620  ┆ 0.0      │\n",
       "│          ┆ hr19       ┆           ┆           ┆   ┆           ┆           ┆           ┆          │\n",
       "│ 174299   ┆ S1_92624_c ┆ 6112      ┆ 6990      ┆ … ┆ -         ┆ 56932363  ┆ 56951620  ┆ 0.0      │\n",
       "│          ┆ hr19       ┆           ┆           ┆   ┆           ┆           ┆           ┆          │\n",
       "└──────────┴────────────┴───────────┴───────────┴───┴───────────┴───────────┴───────────┴──────────┘"
      ]
     },
     "execution_count": 9,
     "metadata": {},
     "output_type": "execute_result"
    }
   ],
   "source": [
    "df_chain_ovlps.sort(\"ratio\", descending=True)"
   ]
  }
 ],
 "metadata": {
  "kernelspec": {
   "display_name": "venv",
   "language": "python",
   "name": "python3"
  },
  "language_info": {
   "codemirror_mode": {
    "name": "ipython",
    "version": 3
   },
   "file_extension": ".py",
   "mimetype": "text/x-python",
   "name": "python",
   "nbconvert_exporter": "python",
   "pygments_lexer": "ipython3",
   "version": "3.11.4"
  }
 },
 "nbformat": 4,
 "nbformat_minor": 2
}
