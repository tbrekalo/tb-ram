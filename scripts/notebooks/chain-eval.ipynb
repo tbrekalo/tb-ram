{
 "cells": [
  {
   "cell_type": "code",
   "execution_count": 1,
   "metadata": {},
   "outputs": [],
   "source": [
    "import numpy as np\n",
    "import pandas as pd\n",
    "import polars as pl\n",
    "\n",
    "import catboost as cb\n",
    "import matplotlib.pyplot as plt\n",
    "import seaborn as sns\n",
    "from sklearn import metrics\n",
    "from sklearn.linear_model import LogisticRegression\n",
    "from sklearn.model_selection import train_test_split\n",
    "\n",
    "import torch\n",
    "import torch.nn as nn\n",
    "from torch.utils.data import TensorDataset, DataLoader\n",
    "\n",
    "import util"
   ]
  },
  {
   "cell_type": "code",
   "execution_count": 2,
   "metadata": {},
   "outputs": [],
   "source": [
    "RANDOM_SEED = 42\n",
    "\n",
    "READ_ORIGINS = \"/storage2/tbrekalo/HG002-simulated/chr19-read-origins.csv\"\n",
    "REF_MAP_PATH = \"/storage2/tbrekalo/HG002-simulated/chr19-ref.paf\"\n",
    "CHAINS_PATH = \"/home/tbrekalo/dev/tb-ram/dev-data/HG002/chr19-sim-sample-ava-chain.tsv\""
   ]
  },
  {
   "cell_type": "code",
   "execution_count": 3,
   "metadata": {},
   "outputs": [],
   "source": [
    "df_origins = util.load_origins_df(READ_ORIGINS)\n",
    "df_chains = util.load_chains_df(CHAINS_PATH)"
   ]
  },
  {
   "cell_type": "code",
   "execution_count": 4,
   "metadata": {},
   "outputs": [],
   "source": [
    "df_chain_ovlp_labels = util.calc_ava_origin_overlap(\n",
    "    util.expand_ava_with_origin_info(\n",
    "        util.create_overlaps_from_chains(df_chains),\n",
    "        df_origins,\n",
    "    )\n",
    ").select(\n",
    "    pl.col(\"chain-id\"),\n",
    "    pl.col(\"query-start\"),\n",
    "    pl.col(\"query-end\"),\n",
    "    pl.col(\"target-start\"),\n",
    "    pl.col(\"target-end\"),\n",
    "    ((pl.col(\"ratio\") > 0.875) & pl.col(\"matching-strands\"))\n",
    "    .cast(pl.Int64)\n",
    "    .alias(\"label\"),\n",
    ")"
   ]
  },
  {
   "cell_type": "code",
   "execution_count": 61,
   "metadata": {},
   "outputs": [],
   "source": [
    "df_features_pl = (\n",
    "    df_chains.join(\n",
    "        df_chain_ovlp_labels,\n",
    "        on=\"chain-id\",\n",
    "    )\n",
    "    .with_columns(pl.when(pl.col(\"strand\") == \"+\").then(1).otherwise(1).alias(\"strand\"))\n",
    "    .group_by(\n",
    "        \"chain-id\",\n",
    "        maintain_order=True,\n",
    "    )\n",
    "    .agg(\n",
    "        pl.col(\"query-match\").diff().mean().alias(\"query-match-diff-mean\"),\n",
    "        *[\n",
    "            pl.col(\"query-match\")\n",
    "            .diff()\n",
    "            .quantile(q / 100, interpolation=\"lower\")\n",
    "            .alias(f\"query-match-diff-q{q}\")\n",
    "            for q in [75, 85, 90, 95, 98]\n",
    "        ],\n",
    "        (pl.col(\"query-end\") - pl.col(\"query-start\"))\n",
    "        .first()\n",
    "        .alias(\"query-overlap-length\"),\n",
    "        (pl.col(\"target-end\") - pl.col(\"target-start\"))\n",
    "        .first()\n",
    "        .alias(\"target-overlap-length\"),\n",
    "        pl.col(\"query-matches\").first(),\n",
    "        pl.col(\"target-matches\").first(),\n",
    "        pl.col(\"label\").first(),\n",
    "    )\n",
    ").select(\n",
    "    [\n",
    "        \"query-match-diff-mean\",\n",
    "        *[f\"query-match-diff-q{q}\" for q in [75, 90, 95, 98]],\n",
    "        \"query-overlap-length\",\n",
    "        \"query-matches\",\n",
    "        \"target-overlap-length\",\n",
    "        \"target-matches\",\n",
    "        \"label\",\n",
    "    ]\n",
    ")"
   ]
  },
  {
   "cell_type": "code",
   "execution_count": 62,
   "metadata": {},
   "outputs": [],
   "source": [
    "df_features = df_features_pl.top_k(400, by=\"label\").to_pandas()"
   ]
  },
  {
   "cell_type": "code",
   "execution_count": 63,
   "metadata": {},
   "outputs": [
    {
     "data": {
      "text/plain": [
       "(400, 10)"
      ]
     },
     "execution_count": 63,
     "metadata": {},
     "output_type": "execute_result"
    }
   ],
   "source": [
    "df_features.shape"
   ]
  },
  {
   "cell_type": "code",
   "execution_count": 64,
   "metadata": {},
   "outputs": [
    {
     "data": {
      "text/plain": [
       "<Axes: xlabel='label', ylabel='Count'>"
      ]
     },
     "execution_count": 64,
     "metadata": {},
     "output_type": "execute_result"
    },
    {
     "data": {
      "image/png": "[encoded data removed]",
      "text/plain": [
       "<Figure size 640x480 with 1 Axes>"
      ]
     },
     "metadata": {},
     "output_type": "display_data"
    }
   ],
   "source": [
    "sns.histplot(df_features, x=\"label\")"
   ]
  },
  {
   "cell_type": "code",
   "execution_count": 65,
   "metadata": {},
   "outputs": [
    {
     "data": {
      "text/html": [
       "<div>\n",
       "<style scoped>\n",
       "    .dataframe tbody tr th:only-of-type {\n",
       "        vertical-align: middle;\n",
       "    }\n",
       "\n",
       "    .dataframe tbody tr th {\n",
       "        vertical-align: top;\n",
       "    }\n",
       "\n",
       "    .dataframe thead th {\n",
       "        text-align: right;\n",
       "    }\n",
       "</style>\n",
       "<table border=\"1\" class=\"dataframe\">\n",
       "  <thead>\n",
       "    <tr style=\"text-align: right;\">\n",
       "      <th></th>\n",
       "      <th>query-match-diff-mean</th>\n",
       "      <th>query-match-diff-q75</th>\n",
       "      <th>query-match-diff-q90</th>\n",
       "      <th>query-match-diff-q95</th>\n",
       "      <th>query-match-diff-q98</th>\n",
       "      <th>query-overlap-length</th>\n",
       "      <th>query-matches</th>\n",
       "      <th>target-overlap-length</th>\n",
       "      <th>target-matches</th>\n",
       "      <th>label</th>\n",
       "    </tr>\n",
       "  </thead>\n",
       "  <tbody>\n",
       "    <tr>\n",
       "      <th>0</th>\n",
       "      <td>35.791667</td>\n",
       "      <td>33.0</td>\n",
       "      <td>53.0</td>\n",
       "      <td>61.0</td>\n",
       "      <td>83.0</td>\n",
       "      <td>859</td>\n",
       "      <td>173</td>\n",
       "      <td>1050</td>\n",
       "      <td>180</td>\n",
       "      <td>1</td>\n",
       "    </tr>\n",
       "    <tr>\n",
       "      <th>1</th>\n",
       "      <td>3.852743</td>\n",
       "      <td>4.0</td>\n",
       "      <td>5.0</td>\n",
       "      <td>7.0</td>\n",
       "      <td>18.0</td>\n",
       "      <td>20015</td>\n",
       "      <td>17846</td>\n",
       "      <td>20030</td>\n",
       "      <td>17849</td>\n",
       "      <td>1</td>\n",
       "    </tr>\n",
       "    <tr>\n",
       "      <th>2</th>\n",
       "      <td>3.333888</td>\n",
       "      <td>4.0</td>\n",
       "      <td>5.0</td>\n",
       "      <td>5.0</td>\n",
       "      <td>9.0</td>\n",
       "      <td>18023</td>\n",
       "      <td>17153</td>\n",
       "      <td>18034</td>\n",
       "      <td>17154</td>\n",
       "      <td>1</td>\n",
       "    </tr>\n",
       "    <tr>\n",
       "      <th>3</th>\n",
       "      <td>3.602522</td>\n",
       "      <td>4.0</td>\n",
       "      <td>5.0</td>\n",
       "      <td>5.0</td>\n",
       "      <td>17.0</td>\n",
       "      <td>17429</td>\n",
       "      <td>16172</td>\n",
       "      <td>17421</td>\n",
       "      <td>16170</td>\n",
       "      <td>1</td>\n",
       "    </tr>\n",
       "    <tr>\n",
       "      <th>4</th>\n",
       "      <td>10.931818</td>\n",
       "      <td>5.0</td>\n",
       "      <td>26.0</td>\n",
       "      <td>31.0</td>\n",
       "      <td>79.0</td>\n",
       "      <td>481</td>\n",
       "      <td>270</td>\n",
       "      <td>483</td>\n",
       "      <td>270</td>\n",
       "      <td>1</td>\n",
       "    </tr>\n",
       "  </tbody>\n",
       "</table>\n",
       "</div>"
      ],
      "text/plain": [
       "   query-match-diff-mean  query-match-diff-q75  query-match-diff-q90  \\\n",
       "0              35.791667                  33.0                  53.0   \n",
       "1               3.852743                   4.0                   5.0   \n",
       "2               3.333888                   4.0                   5.0   \n",
       "3               3.602522                   4.0                   5.0   \n",
       "4              10.931818                   5.0                  26.0   \n",
       "\n",
       "   query-match-diff-q95  query-match-diff-q98  query-overlap-length  \\\n",
       "0                  61.0                  83.0                   859   \n",
       "1                   7.0                  18.0                 20015   \n",
       "2                   5.0                   9.0                 18023   \n",
       "3                   5.0                  17.0                 17429   \n",
       "4                  31.0                  79.0                   481   \n",
       "\n",
       "   query-matches  target-overlap-length  target-matches  label  \n",
       "0            173                   1050             180      1  \n",
       "1          17846                  20030           17849      1  \n",
       "2          17153                  18034           17154      1  \n",
       "3          16172                  17421           16170      1  \n",
       "4            270                    483             270      1  "
      ]
     },
     "execution_count": 65,
     "metadata": {},
     "output_type": "execute_result"
    }
   ],
   "source": [
    "df_features.head(5)"
   ]
  },
  {
   "cell_type": "code",
   "execution_count": 66,
   "metadata": {},
   "outputs": [],
   "source": [
    "cb_params = {\n",
    "    \"iterations\": 2_000,\n",
    "    \"loss_function\": \"Logloss\",\n",
    "    \"boosting_type\": \"Plain\",\n",
    "    \"verbose\": False,\n",
    "    \"max_depth\": 2,\n",
    "    \"random_seed\": RANDOM_SEED\n",
    "}"
   ]
  },
  {
   "cell_type": "code",
   "execution_count": 67,
   "metadata": {},
   "outputs": [],
   "source": [
    "model_logistic = LogisticRegression(max_iter=100_000)\n",
    "model_cat = cb.CatBoostClassifier(**cb_params)\n",
    "data = util.TrainTestData(\n",
    "    *[\n",
    "        df.to_numpy()\n",
    "        for df in train_test_split(\n",
    "            df_features.drop(\"label\", axis=1),\n",
    "            df_features[\"label\"],\n",
    "            test_size=0.3,\n",
    "            random_state=RANDOM_SEED,\n",
    "        )\n",
    "    ]\n",
    ")"
   ]
  },
  {
   "cell_type": "code",
   "execution_count": 68,
   "metadata": {},
   "outputs": [],
   "source": [
    "model_logistic.fit(data.X_train, data.y_train)\n",
    "pred_logistic = model_logistic.predict(data.X_test)\n",
    "report_logistic = metrics.classification_report(\n",
    "    data.y_test, pred_logistic, output_dict=True\n",
    ")"
   ]
  },
  {
   "cell_type": "code",
   "execution_count": 69,
   "metadata": {},
   "outputs": [],
   "source": [
    "model_cat.fit(data.X_train, data.y_train)\n",
    "pred_cat = model_cat.predict(data.X_test)\n",
    "report_cat = metrics.classification_report(data.y_test, pred_cat, output_dict=True)"
   ]
  },
  {
   "cell_type": "code",
   "execution_count": 70,
   "metadata": {},
   "outputs": [],
   "source": [
    "BATCH_SIZE=64"
   ]
  },
  {
   "cell_type": "code",
   "execution_count": 71,
   "metadata": {},
   "outputs": [],
   "source": [
    "train_dataset = TensorDataset(\n",
    "    torch.tensor(data.X_train, dtype=torch.float32),\n",
    "    torch.tensor(data.y_train, dtype=torch.float32).unsqueeze(1),\n",
    ")\n",
    "\n",
    "train_loader = DataLoader(\n",
    "    train_dataset,\n",
    "    batch_size=BATCH_SIZE,\n",
    ")\n",
    "\n",
    "X_test_tensor = torch.tensor(\n",
    "    data.X_test,\n",
    "    dtype=torch.float32,\n",
    ")\n",
    "y_test_tensor = torch.tensor(\n",
    "    data.y_test,\n",
    "    dtype=torch.float32\n",
    ").unsqueeze(1)\n"
   ]
  },
  {
   "cell_type": "code",
   "execution_count": 72,
   "metadata": {},
   "outputs": [
    {
     "name": "stdout",
     "output_type": "stream",
     "text": [
      "OverlapNN(\n",
      "  (linear1): Linear(in_features=9, out_features=18, bias=True)\n",
      "  (linear2): Linear(in_features=18, out_features=9, bias=True)\n",
      "  (relu): ReLU()\n",
      "  (sigmoid): Sigmoid()\n",
      "  (out): Linear(in_features=9, out_features=1, bias=True)\n",
      ")\n"
     ]
    }
   ],
   "source": [
    "class OverlapNN(nn.Module):\n",
    "    def __init__(self, input_size, l1_size, l2_size, output_size):\n",
    "        super(OverlapNN, self).__init__()\n",
    "\n",
    "        self.linear1 = nn.Linear(input_size, l1_size)\n",
    "        self.linear2 = nn.Linear(l1_size, l2_size)\n",
    "\n",
    "        self.relu = nn.ReLU()\n",
    "        self.sigmoid = nn.Sigmoid()\n",
    "        self.out = nn.Linear(l2_size, output_size)\n",
    "\n",
    "    def forward(self, input):\n",
    "        x = self.relu(self.linear1(input))\n",
    "        x = self.relu(self.linear2(x))\n",
    "\n",
    "        x = self.sigmoid(self.out(x))\n",
    "        return x\n",
    "\n",
    "\n",
    "model_nn = OverlapNN(\n",
    "    input_size=train_dataset.tensors[0].shape[1],\n",
    "    l1_size=train_dataset.tensors[0].shape[1] * 2,\n",
    "    l2_size=train_dataset.tensors[0].shape[1],\n",
    "    output_size=1,\n",
    ")\n",
    "criterion = nn.BCELoss()\n",
    "optimizer = torch.optim.Adam(model_nn.parameters(), lr=0.001)\n",
    "\n",
    "print(model_nn)"
   ]
  },
  {
   "cell_type": "code",
   "execution_count": 73,
   "metadata": {},
   "outputs": [
    {
     "name": "stdout",
     "output_type": "stream",
     "text": [
      "[0] 50.0\n",
      "[100] 50.0\n",
      "[200] 50.0\n",
      "[300] 50.0\n",
      "[400] 50.0\n",
      "[500] 50.0\n",
      "[600] 50.0\n",
      "[700] 50.0\n",
      "[800] 50.0\n",
      "[900] 50.0\n"
     ]
    }
   ],
   "source": [
    "num_epochs = 1_000\n",
    "train_losses = []\n",
    "for epoch in range(num_epochs):\n",
    "    for xb, yb in train_loader:\n",
    "        loss = criterion(model_nn(xb), yb)\n",
    "        optimizer.zero_grad()\n",
    "        loss.backward()\n",
    "        optimizer.step()\n",
    "\n",
    "    train_losses.append(\n",
    "        loss.item()\n",
    "    ) \n",
    "    if epoch % 100 == 0:\n",
    "        print(f\"[{epoch}] {loss.item()}\")\n"
   ]
  },
  {
   "cell_type": "code",
   "execution_count": 74,
   "metadata": {},
   "outputs": [
    {
     "data": {
      "image/png": "[encoded data removed]",
      "text/plain": [
       "<Figure size 640x480 with 1 Axes>"
      ]
     },
     "metadata": {},
     "output_type": "display_data"
    }
   ],
   "source": [
    "g = sns.lineplot(np.asarray(train_losses))\n",
    "g.set_yscale('log')"
   ]
  },
  {
   "cell_type": "code",
   "execution_count": 75,
   "metadata": {},
   "outputs": [
    {
     "name": "stderr",
     "output_type": "stream",
     "text": [
      "/home/tbrekalo/dev/tb-ram/venv/lib/python3.11/site-packages/sklearn/metrics/_classification.py:1497: UndefinedMetricWarning: Precision is ill-defined and being set to 0.0 in labels with no predicted samples. Use `zero_division` parameter to control this behavior.\n",
      "  _warn_prf(average, modifier, f\"{metric.capitalize()} is\", len(result))\n",
      "/home/tbrekalo/dev/tb-ram/venv/lib/python3.11/site-packages/sklearn/metrics/_classification.py:1497: UndefinedMetricWarning: Precision is ill-defined and being set to 0.0 in labels with no predicted samples. Use `zero_division` parameter to control this behavior.\n",
      "  _warn_prf(average, modifier, f\"{metric.capitalize()} is\", len(result))\n",
      "/home/tbrekalo/dev/tb-ram/venv/lib/python3.11/site-packages/sklearn/metrics/_classification.py:1497: UndefinedMetricWarning: Precision is ill-defined and being set to 0.0 in labels with no predicted samples. Use `zero_division` parameter to control this behavior.\n",
      "  _warn_prf(average, modifier, f\"{metric.capitalize()} is\", len(result))\n"
     ]
    }
   ],
   "source": [
    "with torch.no_grad():\n",
    "    model_nn.eval()\n",
    "    pred_nn = torch.round(model_nn(X_test_tensor)).squeeze(1).numpy().astype(int)\n",
    "    report_nn = metrics.classification_report(\n",
    "        y_test_tensor.squeeze(1).numpy().astype(int),\n",
    "        pred_nn,\n",
    "        output_dict=True,\n",
    "    )"
   ]
  },
  {
   "cell_type": "code",
   "execution_count": 76,
   "metadata": {},
   "outputs": [],
   "source": [
    "df_reports = util.concat_report_dicts_to_df({\n",
    "    \"logistic-regression\": report_logistic,\n",
    "    \"cat-boost\": report_cat,\n",
    "    \"nn-model\": report_nn,\n",
    "})"
   ]
  },
  {
   "cell_type": "code",
   "execution_count": 77,
   "metadata": {},
   "outputs": [
    {
     "data": {
      "text/plain": [
       "<seaborn.axisgrid.FacetGrid at 0x7f2a24145490>"
      ]
     },
     "execution_count": 77,
     "metadata": {},
     "output_type": "execute_result"
    },
    {
     "data": {
      "text/plain": [
       "<Figure size 640x480 with 0 Axes>"
      ]
     },
     "metadata": {},
     "output_type": "display_data"
    },
    {
     "data": {
      "image/png": "[encoded data removed]",
      "text/plain": [
       "<Figure size 1076.38x600 with 6 Axes>"
      ]
     },
     "metadata": {},
     "output_type": "display_data"
    }
   ],
   "source": [
    "plt.tight_layout()\n",
    "g = sns.FacetGrid(df_reports.to_pandas(), row=\"class\", col=\"metric\", sharey=True)\n",
    "g.map_dataframe(\n",
    "    sns.barplot,\n",
    "    x=\"model\",\n",
    "    y=\"value\",\n",
    "    hue=\"model\",\n",
    "    palette=\"deep\",\n",
    "    legend=True,\n",
    ").set(yscale=\"log\")\n",
    "\n",
    "g.set_xlabels()\n",
    "g.set_xticklabels([])\n",
    "\n",
    "max_val = 1.05\n",
    "min_val = 0.55\n",
    "g.set(\n",
    "    yticks=np.arange(min_val, max_val, 0.05),\n",
    "    yticklabels=[np.round(x, 2) for x in np.arange(min_val, max_val, 0.05)],\n",
    ")\n",
    "g.add_legend()"
   ]
  },
  {
   "cell_type": "code",
   "execution_count": 78,
   "metadata": {},
   "outputs": [
    {
     "data": {
      "text/plain": [
       "[('query-overlap-length', 21.62307336752729),\n",
       " ('query-match-diff-q95', 13.81199745346395),\n",
       " ('query-match-diff-q90', 12.558882596152346),\n",
       " ('target-overlap-length', 11.002523963610267),\n",
       " ('query-matches', 9.86041548367433),\n",
       " ('target-matches', 9.418327378640745),\n",
       " ('query-match-diff-mean', 8.886174275553952),\n",
       " ('query-match-diff-q98', 8.590305820952349),\n",
       " ('query-match-diff-q75', 4.248299660424765)]"
      ]
     },
     "execution_count": 78,
     "metadata": {},
     "output_type": "execute_result"
    }
   ],
   "source": [
    "sorted(list(zip(df_features.columns, model_cat.feature_importances_)), key=lambda x: x[1], reverse=True)"
   ]
  }
 ],
 "metadata": {
  "kernelspec": {
   "display_name": "venv",
   "language": "python",
   "name": "python3"
  },
  "language_info": {
   "codemirror_mode": {
    "name": "ipython",
    "version": 3
   },
   "file_extension": ".py",
   "mimetype": "text/x-python",
   "name": "python",
   "nbconvert_exporter": "python",
   "pygments_lexer": "ipython3",
   "version": "3.11.4"
  }
 },
 "nbformat": 4,
 "nbformat_minor": 2
}
