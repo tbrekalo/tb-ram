{
 "cells": [
  {
   "cell_type": "code",
   "execution_count": 1,
   "metadata": {},
   "outputs": [],
   "source": [
    "import pandas as pd\n",
    "import polars as pl\n",
    "\n",
    "import catboost as cb\n",
    "import matplotlib.pyplot as plt\n",
    "import seaborn as sns\n",
    "\n",
    "from sklearn.linear_model import LogisticRegression\n",
    "from sklearn.model_selection import train_test_split\n",
    "\n",
    "\n",
    "import util"
   ]
  },
  {
   "cell_type": "code",
   "execution_count": 2,
   "metadata": {},
   "outputs": [],
   "source": [
    "RANDOM_SEED = 42\n",
    "\n",
    "READ_ORIGINS=\"/storage2/tbrekalo/HG002-simulated/chr19-read-origins.csv\"\n",
    "MINIMAP2_OVLPS=\"/storage2/tbrekalo/HG002-simulated/chr19-ovlps.paf\""
   ]
  },
  {
   "cell_type": "code",
   "execution_count": 3,
   "metadata": {},
   "outputs": [],
   "source": [
    "df_ovlps = util.create_annotated_overlaps_from_ava(\n",
    "    df_overlaps=util.load_paf_df(MINIMAP2_OVLPS),\n",
    "    df_origins=util.load_origins_df(READ_ORIGINS),\n",
    ")"
   ]
  },
  {
   "cell_type": "code",
   "execution_count": 12,
   "metadata": {},
   "outputs": [
    {
     "data": {
      "text/html": [
       "<div><style>\n",
       ".dataframe > thead > tr,\n",
       ".dataframe > tbody > tr {\n",
       "  text-align: right;\n",
       "  white-space: pre-wrap;\n",
       "}\n",
       "</style>\n",
       "<small>shape: (175_983_762, 8)</small><table border=\"1\" class=\"dataframe\"><thead><tr><th>query-overlap-length</th><th>target-overlap-length</th><th>n-residue-matches</th><th>strand</th><th>label</th><th>overlap-length</th><th>overlap-length-diff-norm</th><th>n-residue-matches-norm</th></tr><tr><td>i64</td><td>i64</td><td>i64</td><td>i32</td><td>i64</td><td>i64</td><td>f64</td><td>f64</td></tr></thead><tbody><tr><td>19095</td><td>19097</td><td>16983</td><td>0</td><td>0</td><td>19097</td><td>0.000105</td><td>0.889302</td></tr><tr><td>17669</td><td>17674</td><td>15708</td><td>0</td><td>0</td><td>17674</td><td>0.000283</td><td>0.888763</td></tr><tr><td>17591</td><td>17599</td><td>15561</td><td>0</td><td>0</td><td>17599</td><td>0.000455</td><td>0.884198</td></tr><tr><td>17292</td><td>17296</td><td>15436</td><td>0</td><td>0</td><td>17296</td><td>0.000231</td><td>0.892461</td></tr><tr><td>16514</td><td>16521</td><td>14719</td><td>1</td><td>0</td><td>16521</td><td>0.000424</td><td>0.890927</td></tr><tr><td>16778</td><td>16810</td><td>14656</td><td>0</td><td>0</td><td>16810</td><td>0.001904</td><td>0.871862</td></tr><tr><td>16153</td><td>16161</td><td>14306</td><td>0</td><td>0</td><td>16161</td><td>0.000495</td><td>0.885217</td></tr><tr><td>15989</td><td>15993</td><td>14143</td><td>1</td><td>0</td><td>15993</td><td>0.00025</td><td>0.884324</td></tr><tr><td>15660</td><td>15662</td><td>13776</td><td>0</td><td>0</td><td>15662</td><td>0.000128</td><td>0.879581</td></tr><tr><td>14980</td><td>14986</td><td>13628</td><td>0</td><td>0</td><td>14986</td><td>0.0004</td><td>0.909382</td></tr><tr><td>15321</td><td>15341</td><td>13392</td><td>1</td><td>0</td><td>15341</td><td>0.001304</td><td>0.872955</td></tr><tr><td>15050</td><td>15058</td><td>13352</td><td>1</td><td>0</td><td>15058</td><td>0.000531</td><td>0.886705</td></tr><tr><td>&hellip;</td><td>&hellip;</td><td>&hellip;</td><td>&hellip;</td><td>&hellip;</td><td>&hellip;</td><td>&hellip;</td><td>&hellip;</td></tr><tr><td>3226</td><td>3232</td><td>102</td><td>1</td><td>0</td><td>3232</td><td>0.001856</td><td>0.031559</td></tr><tr><td>1173</td><td>1174</td><td>101</td><td>1</td><td>0</td><td>1174</td><td>0.000852</td><td>0.086031</td></tr><tr><td>3226</td><td>3232</td><td>102</td><td>0</td><td>0</td><td>3232</td><td>0.001856</td><td>0.031559</td></tr><tr><td>10593</td><td>10606</td><td>104</td><td>0</td><td>0</td><td>10606</td><td>0.001226</td><td>0.009806</td></tr><tr><td>1692</td><td>1695</td><td>101</td><td>0</td><td>0</td><td>1695</td><td>0.00177</td><td>0.059587</td></tr><tr><td>3226</td><td>3233</td><td>102</td><td>1</td><td>0</td><td>3233</td><td>0.002165</td><td>0.03155</td></tr><tr><td>3231</td><td>3239</td><td>102</td><td>1</td><td>0</td><td>3239</td><td>0.00247</td><td>0.031491</td></tr><tr><td>3226</td><td>3234</td><td>102</td><td>0</td><td>0</td><td>3234</td><td>0.002474</td><td>0.03154</td></tr><tr><td>3226</td><td>3232</td><td>102</td><td>1</td><td>0</td><td>3232</td><td>0.001856</td><td>0.031559</td></tr><tr><td>3226</td><td>3232</td><td>102</td><td>0</td><td>0</td><td>3232</td><td>0.001856</td><td>0.031559</td></tr><tr><td>3226</td><td>3232</td><td>102</td><td>1</td><td>0</td><td>3232</td><td>0.001856</td><td>0.031559</td></tr><tr><td>3226</td><td>3232</td><td>102</td><td>0</td><td>0</td><td>3232</td><td>0.001856</td><td>0.031559</td></tr></tbody></table></div>"
      ],
      "text/plain": [
       "shape: (175_983_762, 8)\n",
       "┌─────────────┬─────────────┬─────────────┬────────┬───────┬─────────────┬────────────┬────────────┐\n",
       "│ query-overl ┆ target-over ┆ n-residue-m ┆ strand ┆ label ┆ overlap-len ┆ overlap-le ┆ n-residue- │\n",
       "│ ap-length   ┆ lap-length  ┆ atches      ┆ ---    ┆ ---   ┆ gth         ┆ ngth-diff- ┆ matches-no │\n",
       "│ ---         ┆ ---         ┆ ---         ┆ i32    ┆ i64   ┆ ---         ┆ norm       ┆ rm         │\n",
       "│ i64         ┆ i64         ┆ i64         ┆        ┆       ┆ i64         ┆ ---        ┆ ---        │\n",
       "│             ┆             ┆             ┆        ┆       ┆             ┆ f64        ┆ f64        │\n",
       "╞═════════════╪═════════════╪═════════════╪════════╪═══════╪═════════════╪════════════╪════════════╡\n",
       "│ 19095       ┆ 19097       ┆ 16983       ┆ 0      ┆ 0     ┆ 19097       ┆ 0.000105   ┆ 0.889302   │\n",
       "│ 17669       ┆ 17674       ┆ 15708       ┆ 0      ┆ 0     ┆ 17674       ┆ 0.000283   ┆ 0.888763   │\n",
       "│ 17591       ┆ 17599       ┆ 15561       ┆ 0      ┆ 0     ┆ 17599       ┆ 0.000455   ┆ 0.884198   │\n",
       "│ 17292       ┆ 17296       ┆ 15436       ┆ 0      ┆ 0     ┆ 17296       ┆ 0.000231   ┆ 0.892461   │\n",
       "│ 16514       ┆ 16521       ┆ 14719       ┆ 1      ┆ 0     ┆ 16521       ┆ 0.000424   ┆ 0.890927   │\n",
       "│ …           ┆ …           ┆ …           ┆ …      ┆ …     ┆ …           ┆ …          ┆ …          │\n",
       "│ 3226        ┆ 3234        ┆ 102         ┆ 0      ┆ 0     ┆ 3234        ┆ 0.002474   ┆ 0.03154    │\n",
       "│ 3226        ┆ 3232        ┆ 102         ┆ 1      ┆ 0     ┆ 3232        ┆ 0.001856   ┆ 0.031559   │\n",
       "│ 3226        ┆ 3232        ┆ 102         ┆ 0      ┆ 0     ┆ 3232        ┆ 0.001856   ┆ 0.031559   │\n",
       "│ 3226        ┆ 3232        ┆ 102         ┆ 1      ┆ 0     ┆ 3232        ┆ 0.001856   ┆ 0.031559   │\n",
       "│ 3226        ┆ 3232        ┆ 102         ┆ 0      ┆ 0     ┆ 3232        ┆ 0.001856   ┆ 0.031559   │\n",
       "└─────────────┴─────────────┴─────────────┴────────┴───────┴─────────────┴────────────┴────────────┘"
      ]
     },
     "execution_count": 12,
     "metadata": {},
     "output_type": "execute_result"
    }
   ],
   "source": [
    "df_features = (\n",
    "    df_ovlps.select(\n",
    "        (pl.col(\"query-end\") - pl.col(\"query-start\")).alias(\"query-overlap-length\"),\n",
    "        (pl.col(\"target-end\") - pl.col(\"target-start\")).alias(\"target-overlap-length\"),\n",
    "        pl.col(\"n-residue-matches\"),\n",
    "        pl.col(\"strand\"),\n",
    "        pl.col(\"label\"),\n",
    "    )\n",
    "    .with_columns(\n",
    "        pl.max_horizontal(\n",
    "            pl.col(\"query-overlap-length\"), pl.col(\"target-overlap-length\")\n",
    "        ).alias(\"overlap-length\"),\n",
    "    )\n",
    "    .with_columns(\n",
    "        (\n",
    "            (\n",
    "                (pl.col(\"query-overlap-length\") - pl.col(\"target-overlap-length\")) ** 2\n",
    "            ).sqrt()\n",
    "            / pl.col(\"overlap-length\")\n",
    "        ).alias(\"overlap-length-diff-norm\"),\n",
    "        (pl.col(\"n-residue-matches\") / pl.col(\"overlap-length\")).alias(\n",
    "            \"n-residue-matches-norm\"\n",
    "        ),\n",
    "    )\n",
    ")\n",
    "\n",
    "df_features"
   ]
  },
  {
   "cell_type": "code",
   "execution_count": 13,
   "metadata": {},
   "outputs": [
    {
     "data": {
      "text/plain": [
       "<Axes: xlabel='label', ylabel='len'>"
      ]
     },
     "execution_count": 13,
     "metadata": {},
     "output_type": "execute_result"
    },
    {
     "data": {
      "image/png": "[encoded data removed]",
      "text/plain": [
       "<Figure size 640x480 with 1 Axes>"
      ]
     },
     "metadata": {},
     "output_type": "display_data"
    }
   ],
   "source": [
    "sns.barplot(\n",
    "    df_features.top_k(5_000_000, by=\"label\").sample(100_000, seed=RANDOM_SEED).group_by(\"label\").agg(pl.len()).to_pandas(),\n",
    "    x=\"label\",\n",
    "    y=\"len\",\n",
    "    hue=\"label\",\n",
    ")"
   ]
  },
  {
   "cell_type": "code",
   "execution_count": 15,
   "metadata": {},
   "outputs": [],
   "source": [
    "df_model = df_features.top_k(5_000_000, by=\"label\").sample(100_000, seed=RANDOM_SEED).to_pandas()"
   ]
  },
  {
   "cell_type": "code",
   "execution_count": 16,
   "metadata": {},
   "outputs": [],
   "source": [
    "data = util.TrainTestData(*train_test_split(\n",
    "    df_model.drop([\"label\"], axis=1),\n",
    "    df_model[[\"label\"]],\n",
    "    test_size=0.3,\n",
    "    random_state=RANDOM_SEED,\n",
    "))"
   ]
  },
  {
   "cell_type": "code",
   "execution_count": 18,
   "metadata": {},
   "outputs": [],
   "source": [
    "cb_pool = cb.Pool(\n",
    "    df_model.drop([\"label\"], axis=1),\n",
    "    label=df_model[[\"label\"]],\n",
    "    cat_features=[\"strand\"],\n",
    ")"
   ]
  },
  {
   "cell_type": "code",
   "execution_count": 21,
   "metadata": {},
   "outputs": [],
   "source": [
    "cb_params = {\n",
    "    \"iterations\": 1_000,\n",
    "    \"loss_function\": \"Logloss\",\n",
    "    \"boosting_type\": \"Plain\",\n",
    "    \"verbose\": False,\n",
    "    \"max_depth\": 6\n",
    "}"
   ]
  },
  {
   "cell_type": "code",
   "execution_count": 22,
   "metadata": {},
   "outputs": [
    {
     "data": {
      "application/vnd.jupyter.widget-view+json": {
       "model_id": "b705004de0a24224a3f2c647da706943",
       "version_major": 2,
       "version_minor": 0
      },
      "text/plain": [
       "MetricVisualizer(layout=Layout(align_self='stretch', height='500px'))"
      ]
     },
     "metadata": {},
     "output_type": "display_data"
    },
    {
     "name": "stdout",
     "output_type": "stream",
     "text": [
      "Training on fold [0/3]\n"
     ]
    },
    {
     "ename": "KeyboardInterrupt",
     "evalue": "",
     "output_type": "error",
     "traceback": [
      "\u001b[0;31m---------------------------------------------------------------------------\u001b[0m",
      "\u001b[0;31mKeyboardInterrupt\u001b[0m                         Traceback (most recent call last)",
      "Cell \u001b[0;32mIn[22], line 1\u001b[0m\n\u001b[0;32m----> 1\u001b[0m scores \u001b[38;5;241m=\u001b[39m \u001b[43mcb\u001b[49m\u001b[38;5;241;43m.\u001b[39;49m\u001b[43mcv\u001b[49m\u001b[43m(\u001b[49m\u001b[43mcb_pool\u001b[49m\u001b[43m,\u001b[49m\u001b[43m \u001b[49m\u001b[43mcb_params\u001b[49m\u001b[43m,\u001b[49m\u001b[43m \u001b[49m\u001b[43mfold_count\u001b[49m\u001b[38;5;241;43m=\u001b[39;49m\u001b[38;5;241;43m3\u001b[39;49m\u001b[43m,\u001b[49m\u001b[43m \u001b[49m\u001b[43mplot\u001b[49m\u001b[38;5;241;43m=\u001b[39;49m\u001b[38;5;124;43m\"\u001b[39;49m\u001b[38;5;124;43mTrue\u001b[39;49m\u001b[38;5;124;43m\"\u001b[39;49m\u001b[43m)\u001b[49m\n",
      "File \u001b[0;32m~/dev/tb-ram/venv/lib/python3.11/site-packages/catboost/core.py:6794\u001b[0m, in \u001b[0;36mcv\u001b[0;34m(pool, params, dtrain, iterations, num_boost_round, fold_count, nfold, inverted, partition_random_seed, seed, shuffle, logging_level, stratified, as_pandas, metric_period, verbose, verbose_eval, plot, plot_file, early_stopping_rounds, save_snapshot, snapshot_file, snapshot_interval, metric_update_interval, folds, type, return_models, log_cout, log_cerr)\u001b[0m\n\u001b[1;32m   6792\u001b[0m \u001b[38;5;28;01mwith\u001b[39;00m log_fixup(log_cout, log_cerr), plot_wrapper(plot, plot_file\u001b[38;5;241m=\u001b[39mplot_file, plot_title\u001b[38;5;241m=\u001b[39m\u001b[38;5;124m'\u001b[39m\u001b[38;5;124mCross-validation plot\u001b[39m\u001b[38;5;124m'\u001b[39m, train_dirs\u001b[38;5;241m=\u001b[39mplot_dirs):\n\u001b[1;32m   6793\u001b[0m     \u001b[38;5;28;01mif\u001b[39;00m \u001b[38;5;129;01mnot\u001b[39;00m return_models:\n\u001b[0;32m-> 6794\u001b[0m         \u001b[38;5;28;01mreturn\u001b[39;00m \u001b[43m_cv\u001b[49m\u001b[43m(\u001b[49m\u001b[43mparams\u001b[49m\u001b[43m,\u001b[49m\u001b[43m \u001b[49m\u001b[43mpool\u001b[49m\u001b[43m,\u001b[49m\u001b[43m \u001b[49m\u001b[43mfold_count\u001b[49m\u001b[43m,\u001b[49m\u001b[43m \u001b[49m\u001b[43minverted\u001b[49m\u001b[43m,\u001b[49m\u001b[43m \u001b[49m\u001b[43mpartition_random_seed\u001b[49m\u001b[43m,\u001b[49m\u001b[43m \u001b[49m\u001b[43mshuffle\u001b[49m\u001b[43m,\u001b[49m\u001b[43m \u001b[49m\u001b[43mstratified\u001b[49m\u001b[43m,\u001b[49m\n\u001b[1;32m   6795\u001b[0m \u001b[43m                \u001b[49m\u001b[43mmetric_update_interval\u001b[49m\u001b[43m,\u001b[49m\u001b[43m \u001b[49m\u001b[43mas_pandas\u001b[49m\u001b[43m,\u001b[49m\u001b[43m \u001b[49m\u001b[43mfolds\u001b[49m\u001b[43m,\u001b[49m\u001b[43m \u001b[49m\u001b[38;5;28;43mtype\u001b[39;49m\u001b[43m,\u001b[49m\u001b[43m \u001b[49m\u001b[43mreturn_models\u001b[49m\u001b[43m)\u001b[49m\n\u001b[1;32m   6796\u001b[0m     \u001b[38;5;28;01melse\u001b[39;00m:\n\u001b[1;32m   6797\u001b[0m         results, cv_models \u001b[38;5;241m=\u001b[39m _cv(params, pool, fold_count, inverted, partition_random_seed, shuffle, stratified,\n\u001b[1;32m   6798\u001b[0m                                  metric_update_interval, as_pandas, folds, \u001b[38;5;28mtype\u001b[39m, return_models)\n",
      "File \u001b[0;32m_catboost.pyx:5517\u001b[0m, in \u001b[0;36m_catboost._cv\u001b[0;34m()\u001b[0m\n",
      "File \u001b[0;32m_catboost.pyx:5549\u001b[0m, in \u001b[0;36m_catboost._cv\u001b[0;34m()\u001b[0m\n",
      "\u001b[0;31mKeyboardInterrupt\u001b[0m: "
     ]
    }
   ],
   "source": [
    "scores = cb.cv(cb_pool, cb_params, fold_count=3, plot=\"True\")"
   ]
  },
  {
   "cell_type": "code",
   "execution_count": null,
   "metadata": {},
   "outputs": [],
   "source": [
    "models = {\n",
    "    \"catboost\": cb.CatBoostClassifier(\n",
    "        iterations=100,\n",
    "        random_seed=RANDOM_SEED,\n",
    "        cat_features=[\"strand\"],\n",
    "        verbose=10,\n",
    "    ),\n",
    "    \"logistic-regression\": LogisticRegression(),\n",
    "}"
   ]
  },
  {
   "cell_type": "code",
   "execution_count": null,
   "metadata": {},
   "outputs": [],
   "source": [
    "models['catboost'].fit()"
   ]
  }
 ],
 "metadata": {
  "kernelspec": {
   "display_name": "venv",
   "language": "python",
   "name": "python3"
  },
  "language_info": {
   "codemirror_mode": {
    "name": "ipython",
    "version": 3
   },
   "file_extension": ".py",
   "mimetype": "text/x-python",
   "name": "python",
   "nbconvert_exporter": "python",
   "pygments_lexer": "ipython3",
   "version": "3.11.4"
  }
 },
 "nbformat": 4,
 "nbformat_minor": 2
}
