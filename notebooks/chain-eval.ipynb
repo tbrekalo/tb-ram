{
 "cells": [
  {
   "cell_type": "code",
   "execution_count": 1,
   "metadata": {},
   "outputs": [],
   "source": [
    "import numpy as np\n",
    "import pandas as pd\n",
    "import polars as pl\n",
    "\n",
    "import catboost as cb\n",
    "import matplotlib.pyplot as plt\n",
    "import seaborn as sns\n",
    "from sklearn import metrics\n",
    "from sklearn.linear_model import LogisticRegression\n",
    "from sklearn.model_selection import train_test_split\n",
    "\n",
    "import torch\n",
    "import torch.nn as nn\n",
    "from torch.utils.data import TensorDataset, DataLoader\n",
    "\n",
    "import util"
   ]
  },
  {
   "cell_type": "code",
   "execution_count": 2,
   "metadata": {},
   "outputs": [],
   "source": [
    "RANDOM_SEED = 42\n",
    "\n",
    "READ_ORIGINS = \"/storage2/tbrekalo/HG002-simulated/chr19-read-origins.csv\"\n",
    "REF_MAP_PATH = \"/storage2/tbrekalo/HG002-simulated/chr19-ref.paf\"\n",
    "CHAINS_PATH = \"/home/tbrekalo/dev/tb-ram/dev-data/HG002/chr19-sim-sample-ava-chain.tsv\""
   ]
  },
  {
   "cell_type": "code",
   "execution_count": 3,
   "metadata": {},
   "outputs": [],
   "source": [
    "df_origins = util.load_origins_df(READ_ORIGINS)\n",
    "df_chains = util.load_chains_df(CHAINS_PATH)"
   ]
  },
  {
   "cell_type": "code",
   "execution_count": 4,
   "metadata": {},
   "outputs": [],
   "source": [
    "df_chain_ovlp_labels = util.calc_ava_origin_overlap(\n",
    "    util.expand_ava_with_origin_info(\n",
    "        util.create_overlaps_from_chains(df_chains),\n",
    "        df_origins,\n",
    "    )\n",
    ").select(\n",
    "    pl.col(\"chain-id\"),\n",
    "    pl.col(\"query-start\"),\n",
    "    pl.col(\"query-end\"),\n",
    "    pl.col(\"target-start\"),\n",
    "    pl.col(\"target-end\"),\n",
    "    ((pl.col(\"ratio\") > 0.875) & pl.col(\"matching-strands\"))\n",
    "    .cast(pl.Int64)\n",
    "    .alias(\"label\"),\n",
    ")"
   ]
  },
  {
   "cell_type": "code",
   "execution_count": 5,
   "metadata": {},
   "outputs": [],
   "source": [
    "df_features_pl = (\n",
    "    df_chains.join(\n",
    "        df_chain_ovlp_labels,\n",
    "        on=\"chain-id\",\n",
    "    )\n",
    "    .with_columns(pl.when(pl.col(\"strand\") == \"+\").then(1).otherwise(1).alias(\"strand\"))\n",
    "    .group_by(\n",
    "        \"chain-id\",\n",
    "        maintain_order=True,\n",
    "    )\n",
    "    .agg(\n",
    "        # pl.col(\"query-match\").diff().mean().alias(\"query-match-diff-mean\"),\n",
    "        # pl.col(\"query-match\").diff().std().alias(\"query-match-diff-std\"),\n",
    "        pl.col(\"query-match\")\n",
    "        .diff()\n",
    "        .quantile(0.50, interpolation=\"lower\")\n",
    "        .alias(\"query-match-diff-q50\"),\n",
    "        pl.col(\"query-match\")\n",
    "        .diff()\n",
    "        .quantile(0.75, interpolation=\"lower\")\n",
    "        .alias(\"query-match-diff-q75\"),\n",
    "        pl.col(\"query-match\")\n",
    "        .diff()\n",
    "        .quantile(0.90, interpolation=\"lower\")\n",
    "        .alias(\"query-match-diff-q90\"),\n",
    "        pl.col(\"query-match\")\n",
    "        .diff()\n",
    "        .quantile(0.95, interpolation=\"lower\")\n",
    "        .alias(\"query-match-diff-q95\"),\n",
    "        pl.col(\"query-match\")\n",
    "        .diff()\n",
    "        .quantile(0.98, interpolation=\"lower\")\n",
    "        .alias(\"query-match-diff-q98\"),\n",
    "        (pl.col(\"query-end\") - pl.col(\"query-start\"))\n",
    "        .first()\n",
    "        .alias(\"query-overlap-length\"),\n",
    "        (pl.col(\"target-end\") - pl.col(\"target-start\"))\n",
    "        .first()\n",
    "        .alias(\"target-overlap-length\"),\n",
    "        pl.col(\"query-matches\").first(),\n",
    "        pl.col(\"target-matches\").first(),\n",
    "        pl.col(\"label\").first(),\n",
    "    )\n",
    ").drop(\"chain-id\")"
   ]
  },
  {
   "cell_type": "code",
   "execution_count": 6,
   "metadata": {},
   "outputs": [],
   "source": [
    "df_features = df_features_pl.top_k(400, by=\"label\").to_pandas()"
   ]
  },
  {
   "cell_type": "code",
   "execution_count": 7,
   "metadata": {},
   "outputs": [
    {
     "data": {
      "text/plain": [
       "(400, 10)"
      ]
     },
     "execution_count": 7,
     "metadata": {},
     "output_type": "execute_result"
    }
   ],
   "source": [
    "df_features.shape"
   ]
  },
  {
   "cell_type": "code",
   "execution_count": 8,
   "metadata": {},
   "outputs": [
    {
     "data": {
      "text/html": [
       "<div>\n",
       "<style scoped>\n",
       "    .dataframe tbody tr th:only-of-type {\n",
       "        vertical-align: middle;\n",
       "    }\n",
       "\n",
       "    .dataframe tbody tr th {\n",
       "        vertical-align: top;\n",
       "    }\n",
       "\n",
       "    .dataframe thead th {\n",
       "        text-align: right;\n",
       "    }\n",
       "</style>\n",
       "<table border=\"1\" class=\"dataframe\">\n",
       "  <thead>\n",
       "    <tr style=\"text-align: right;\">\n",
       "      <th></th>\n",
       "      <th>query-match-diff-q50</th>\n",
       "      <th>query-match-diff-q75</th>\n",
       "      <th>query-match-diff-q90</th>\n",
       "      <th>query-match-diff-q95</th>\n",
       "      <th>query-match-diff-q98</th>\n",
       "      <th>query-overlap-length</th>\n",
       "      <th>target-overlap-length</th>\n",
       "      <th>query-matches</th>\n",
       "      <th>target-matches</th>\n",
       "      <th>label</th>\n",
       "    </tr>\n",
       "  </thead>\n",
       "  <tbody>\n",
       "    <tr>\n",
       "      <th>0</th>\n",
       "      <td>4.0</td>\n",
       "      <td>33.0</td>\n",
       "      <td>53.0</td>\n",
       "      <td>61.0</td>\n",
       "      <td>83.0</td>\n",
       "      <td>859</td>\n",
       "      <td>1050</td>\n",
       "      <td>173</td>\n",
       "      <td>180</td>\n",
       "      <td>1</td>\n",
       "    </tr>\n",
       "    <tr>\n",
       "      <th>1</th>\n",
       "      <td>3.0</td>\n",
       "      <td>4.0</td>\n",
       "      <td>5.0</td>\n",
       "      <td>7.0</td>\n",
       "      <td>18.0</td>\n",
       "      <td>20015</td>\n",
       "      <td>20030</td>\n",
       "      <td>17846</td>\n",
       "      <td>17849</td>\n",
       "      <td>1</td>\n",
       "    </tr>\n",
       "    <tr>\n",
       "      <th>2</th>\n",
       "      <td>3.0</td>\n",
       "      <td>4.0</td>\n",
       "      <td>5.0</td>\n",
       "      <td>5.0</td>\n",
       "      <td>9.0</td>\n",
       "      <td>18023</td>\n",
       "      <td>18034</td>\n",
       "      <td>17153</td>\n",
       "      <td>17154</td>\n",
       "      <td>1</td>\n",
       "    </tr>\n",
       "    <tr>\n",
       "      <th>3</th>\n",
       "      <td>3.0</td>\n",
       "      <td>4.0</td>\n",
       "      <td>5.0</td>\n",
       "      <td>5.0</td>\n",
       "      <td>17.0</td>\n",
       "      <td>17429</td>\n",
       "      <td>17421</td>\n",
       "      <td>16172</td>\n",
       "      <td>16170</td>\n",
       "      <td>1</td>\n",
       "    </tr>\n",
       "    <tr>\n",
       "      <th>4</th>\n",
       "      <td>4.0</td>\n",
       "      <td>5.0</td>\n",
       "      <td>26.0</td>\n",
       "      <td>31.0</td>\n",
       "      <td>79.0</td>\n",
       "      <td>481</td>\n",
       "      <td>483</td>\n",
       "      <td>270</td>\n",
       "      <td>270</td>\n",
       "      <td>1</td>\n",
       "    </tr>\n",
       "  </tbody>\n",
       "</table>\n",
       "</div>"
      ],
      "text/plain": [
       "   query-match-diff-q50  query-match-diff-q75  query-match-diff-q90  \\\n",
       "0                   4.0                  33.0                  53.0   \n",
       "1                   3.0                   4.0                   5.0   \n",
       "2                   3.0                   4.0                   5.0   \n",
       "3                   3.0                   4.0                   5.0   \n",
       "4                   4.0                   5.0                  26.0   \n",
       "\n",
       "   query-match-diff-q95  query-match-diff-q98  query-overlap-length  \\\n",
       "0                  61.0                  83.0                   859   \n",
       "1                   7.0                  18.0                 20015   \n",
       "2                   5.0                   9.0                 18023   \n",
       "3                   5.0                  17.0                 17429   \n",
       "4                  31.0                  79.0                   481   \n",
       "\n",
       "   target-overlap-length  query-matches  target-matches  label  \n",
       "0                   1050            173             180      1  \n",
       "1                  20030          17846           17849      1  \n",
       "2                  18034          17153           17154      1  \n",
       "3                  17421          16172           16170      1  \n",
       "4                    483            270             270      1  "
      ]
     },
     "execution_count": 8,
     "metadata": {},
     "output_type": "execute_result"
    }
   ],
   "source": [
    "df_features.head(5)"
   ]
  },
  {
   "cell_type": "code",
   "execution_count": 9,
   "metadata": {},
   "outputs": [],
   "source": [
    "cb_params = {\n",
    "    \"iterations\": 1_000,\n",
    "    \"loss_function\": \"Logloss\",\n",
    "    \"boosting_type\": \"Plain\",\n",
    "    \"verbose\": False,\n",
    "    \"max_depth\": 6,\n",
    "    \"random_seed\": RANDOM_SEED\n",
    "}"
   ]
  },
  {
   "cell_type": "code",
   "execution_count": 10,
   "metadata": {},
   "outputs": [],
   "source": [
    "model_logistic = LogisticRegression(max_iter=100_000)\n",
    "model_cat = cb.CatBoostClassifier(**cb_params)\n",
    "data = util.TrainTestData(\n",
    "    *[\n",
    "        df.to_numpy()\n",
    "        for df in train_test_split(\n",
    "            df_features.drop(\"label\", axis=1),\n",
    "            df_features[\"label\"],\n",
    "            test_size=0.3,\n",
    "            random_state=RANDOM_SEED,\n",
    "        )\n",
    "    ]\n",
    ")"
   ]
  },
  {
   "cell_type": "code",
   "execution_count": 11,
   "metadata": {},
   "outputs": [],
   "source": [
    "model_logistic.fit(data.X_train, data.y_train)\n",
    "pred_logistic = model_logistic.predict(data.X_test)\n",
    "report_logistic = metrics.classification_report(\n",
    "    data.y_test, pred_logistic, output_dict=True\n",
    ")"
   ]
  },
  {
   "cell_type": "code",
   "execution_count": 12,
   "metadata": {},
   "outputs": [],
   "source": [
    "model_cat.fit(data.X_train, data.y_train)\n",
    "pred_cat = model_cat.predict(data.X_test)\n",
    "report_cat = metrics.classification_report(data.y_test, pred_cat, output_dict=True)"
   ]
  },
  {
   "cell_type": "code",
   "execution_count": 13,
   "metadata": {},
   "outputs": [],
   "source": [
    "BATCH_SIZE=64"
   ]
  },
  {
   "cell_type": "code",
   "execution_count": 14,
   "metadata": {},
   "outputs": [],
   "source": [
    "train_dataset = TensorDataset(\n",
    "    torch.tensor(data.X_train, dtype=torch.float32),\n",
    "    torch.tensor(data.y_train, dtype=torch.float32).unsqueeze(1),\n",
    ")\n",
    "\n",
    "train_loader = DataLoader(\n",
    "    train_dataset,\n",
    "    batch_size=BATCH_SIZE,\n",
    ")\n",
    "\n",
    "X_test_tensor = torch.tensor(\n",
    "    data.X_test,\n",
    "    dtype=torch.float32,\n",
    ")\n",
    "y_test_tensor = torch.tensor(\n",
    "    data.y_test,\n",
    "    dtype=torch.float32\n",
    ").unsqueeze(1)\n"
   ]
  },
  {
   "cell_type": "code",
   "execution_count": 15,
   "metadata": {},
   "outputs": [
    {
     "name": "stdout",
     "output_type": "stream",
     "text": [
      "OverlapNN(\n",
      "  (linear1): Linear(in_features=9, out_features=18, bias=True)\n",
      "  (linear2): Linear(in_features=18, out_features=9, bias=True)\n",
      "  (relu): LeakyReLU(negative_slope=0.01)\n",
      "  (sigmoid): Sigmoid()\n",
      "  (out): Linear(in_features=9, out_features=1, bias=True)\n",
      ")\n"
     ]
    }
   ],
   "source": [
    "class OverlapNN(nn.Module):\n",
    "    def __init__(self, input_size, l1_size, l2_size, output_size):\n",
    "        super(OverlapNN, self).__init__()\n",
    "\n",
    "        self.linear1 = nn.Linear(input_size, l1_size)\n",
    "        self.linear2 = nn.Linear(l1_size, l2_size)\n",
    "\n",
    "        self.relu = nn.LeakyReLU(negative_slope=0.01)\n",
    "        self.sigmoid = nn.Sigmoid()\n",
    "        self.out = nn.Linear(l2_size, output_size)\n",
    "\n",
    "    def forward(self, input):\n",
    "        x = self.relu(self.linear1(input))\n",
    "        x = self.relu(self.linear2(x))\n",
    "\n",
    "        x = self.sigmoid(self.out(x))\n",
    "        return x\n",
    "\n",
    "\n",
    "model_nn = OverlapNN(\n",
    "    input_size=train_dataset.tensors[0].shape[1],\n",
    "    l1_size=train_dataset.tensors[0].shape[1] * 2,\n",
    "    l2_size=train_dataset.tensors[0].shape[1],\n",
    "    output_size=1,\n",
    ")\n",
    "criterion = nn.BCELoss()\n",
    "optimizer = torch.optim.Adam(model_nn.parameters(), lr=0.001)\n",
    "\n",
    "print(model_nn)"
   ]
  },
  {
   "cell_type": "code",
   "execution_count": 16,
   "metadata": {},
   "outputs": [
    {
     "name": "stdout",
     "output_type": "stream",
     "text": [
      "[0] 18.816679000854492\n",
      "[100] 0.4326939880847931\n",
      "[200] 0.3131796419620514\n",
      "[300] 0.2864924669265747\n",
      "[400] 0.2747214138507843\n",
      "[500] 0.2960298955440521\n",
      "[600] 0.2252834439277649\n",
      "[700] 0.21046726405620575\n",
      "[800] 0.24984639883041382\n",
      "[900] 0.24496769905090332\n",
      "[1000] 0.19283729791641235\n",
      "[1100] 0.2648582458496094\n",
      "[1200] 0.258171021938324\n",
      "[1300] 0.2565135657787323\n",
      "[1400] 0.24629008769989014\n",
      "[1500] 0.24792832136154175\n",
      "[1600] 0.3044372498989105\n",
      "[1700] 0.24602632224559784\n",
      "[1800] 0.18435893952846527\n",
      "[1900] 0.17571090161800385\n",
      "[2000] 0.1794673651456833\n",
      "[2100] 0.24139507114887238\n",
      "[2200] 0.2347177416086197\n",
      "[2300] 0.17560674250125885\n",
      "[2400] 0.16768759489059448\n"
     ]
    }
   ],
   "source": [
    "num_epochs = 2_500\n",
    "train_losses = []\n",
    "for epoch in range(num_epochs):\n",
    "    for xb, yb in train_loader:\n",
    "        loss = criterion(model_nn(xb), yb)\n",
    "        optimizer.zero_grad()\n",
    "        loss.backward()\n",
    "        optimizer.step()\n",
    "\n",
    "    train_losses.append(\n",
    "        loss.item()\n",
    "    ) \n",
    "    if epoch % 100 == 0:\n",
    "        print(f\"[{epoch}] {loss.item()}\")\n"
   ]
  },
  {
   "cell_type": "code",
   "execution_count": 17,
   "metadata": {},
   "outputs": [
    {
     "data": {
      "image/png": "[encoded data removed]",
      "text/plain": [
       "<Figure size 640x480 with 1 Axes>"
      ]
     },
     "metadata": {},
     "output_type": "display_data"
    }
   ],
   "source": [
    "g = sns.lineplot(np.asarray(train_losses))\n",
    "g.set_yscale('log')"
   ]
  },
  {
   "cell_type": "code",
   "execution_count": 18,
   "metadata": {},
   "outputs": [],
   "source": [
    "with torch.no_grad():\n",
    "    model_nn.eval()\n",
    "    pred_nn = torch.round(model_nn(X_test_tensor)).squeeze(1).numpy().astype(int)\n",
    "    report_nn = metrics.classification_report(\n",
    "        y_test_tensor.squeeze(1).numpy().astype(int),\n",
    "        pred_nn,\n",
    "        output_dict=True,\n",
    "    )"
   ]
  },
  {
   "cell_type": "code",
   "execution_count": 19,
   "metadata": {},
   "outputs": [],
   "source": [
    "df_reports = util.concat_report_dicts_to_df({\n",
    "    \"logistic-regression\": report_logistic,\n",
    "    \"cat-boost\": report_cat,\n",
    "    \"nn-model\": report_nn,\n",
    "})"
   ]
  },
  {
   "cell_type": "code",
   "execution_count": 20,
   "metadata": {},
   "outputs": [
    {
     "data": {
      "text/plain": [
       "<seaborn.axisgrid.FacetGrid at 0x7f7bc4b08b10>"
      ]
     },
     "execution_count": 20,
     "metadata": {},
     "output_type": "execute_result"
    },
    {
     "data": {
      "text/plain": [
       "<Figure size 640x480 with 0 Axes>"
      ]
     },
     "metadata": {},
     "output_type": "display_data"
    },
    {
     "data": {
      "image/png": "[encoded data removed]",
      "text/plain": [
       "<Figure size 1076.38x600 with 6 Axes>"
      ]
     },
     "metadata": {},
     "output_type": "display_data"
    }
   ],
   "source": [
    "plt.tight_layout()\n",
    "g = sns.FacetGrid(df_reports.to_pandas(), row=\"class\", col=\"metric\", sharey=True)\n",
    "g.map_dataframe(\n",
    "    sns.barplot,\n",
    "    x=\"model\",\n",
    "    y=\"value\",\n",
    "    hue=\"model\",\n",
    "    palette=\"deep\",\n",
    "    legend=True,\n",
    ").set(yscale=\"log\")\n",
    "\n",
    "g.set_xlabels()\n",
    "g.set_xticklabels([])\n",
    "\n",
    "min_val = np.round(df_reports[\"value\"].min() - 0.05, 2)\n",
    "max_val = np.round(df_reports[\"value\"].max() + 0.05, 2)\n",
    "g.set(\n",
    "    yticks=np.arange(min_val, max_val, 0.05),\n",
    "    yticklabels=[np.round(x, 2) for x in np.arange(min_val, max_val, 0.05)],\n",
    ")\n",
    "g.add_legend()"
   ]
  },
  {
   "cell_type": "code",
   "execution_count": 21,
   "metadata": {},
   "outputs": [
    {
     "data": {
      "text/plain": [
       "[('query-overlap-length', 17.389366450430593),\n",
       " ('query-match-diff-q90', 14.901589470168977),\n",
       " ('query-match-diff-q98', 13.832113028777067),\n",
       " ('query-match-diff-q95', 13.24430192117728),\n",
       " ('target-overlap-length', 12.114134146237753),\n",
       " ('target-matches', 10.71690830893456),\n",
       " ('query-matches', 7.901858267335484),\n",
       " ('query-match-diff-q75', 5.667512197955086),\n",
       " ('query-match-diff-q50', 4.232216208983203)]"
      ]
     },
     "execution_count": 21,
     "metadata": {},
     "output_type": "execute_result"
    }
   ],
   "source": [
    "sorted(list(zip(df_features.columns, model_cat.feature_importances_)), key=lambda x: x[1], reverse=True)"
   ]
  }
 ],
 "metadata": {
  "kernelspec": {
   "display_name": "venv",
   "language": "python",
   "name": "python3"
  },
  "language_info": {
   "codemirror_mode": {
    "name": "ipython",
    "version": 3
   },
   "file_extension": ".py",
   "mimetype": "text/x-python",
   "name": "python",
   "nbconvert_exporter": "python",
   "pygments_lexer": "ipython3",
   "version": "3.11.4"
  }
 },
 "nbformat": 4,
 "nbformat_minor": 2
}
