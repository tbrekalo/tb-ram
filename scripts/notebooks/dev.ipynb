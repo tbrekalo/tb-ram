{
 "cells": [
  {
   "cell_type": "code",
   "execution_count": 1,
   "metadata": {},
   "outputs": [],
   "source": [
    "import numpy as np\n",
    "import polars as pl\n",
    "import pandas as pd\n",
    "\n",
    "import matplotlib.pyplot as plt\n",
    "import seaborn as sns\n",
    "\n",
    "import pysam\n",
    "import util"
   ]
  },
  {
   "cell_type": "code",
   "execution_count": 2,
   "metadata": {},
   "outputs": [],
   "source": [
    "NO_MATCH_PATH=\"/home/tbrekalo/dev/tb-ram/no-match.csv\"\n",
    "READS_PATH=\"/storage2/tbrekalo/HG002-simulated/chr19-sample.fasta\"\n",
    "MINIMAP2_OVERLAPS=\"/storage2/tbrekalo/HG002-simulated/chr19-sample-minimap2-ovlps.paf\"\n",
    "ORIGNS_PATH=\"/storage2/tbrekalo/HG002-simulated/chr19-read-origins.csv\""
   ]
  },
  {
   "cell_type": "code",
   "execution_count": 3,
   "metadata": {},
   "outputs": [],
   "source": [
    "with pysam.FastaFile(READS_PATH) as f:\n",
    "    df_names = pl.DataFrame({\n",
    "        \"read-name\": [read_name for read_name in f.references]\n",
    "    }).with_row_index().with_columns(\n",
    "        pl.col(\"index\").cast(pl.Int64)\n",
    "    )"
   ]
  },
  {
   "cell_type": "code",
   "execution_count": 4,
   "metadata": {},
   "outputs": [
    {
     "data": {
      "text/html": [
       "<div><style>\n",
       ".dataframe > thead > tr,\n",
       ".dataframe > tbody > tr {\n",
       "  text-align: right;\n",
       "  white-space: pre-wrap;\n",
       "}\n",
       "</style>\n",
       "<small>shape: (1_118, 2)</small><table border=\"1\" class=\"dataframe\"><thead><tr><th>index</th><th>read-name</th></tr><tr><td>i64</td><td>str</td></tr></thead><tbody><tr><td>0</td><td>&quot;S1_12271_chr19…</td></tr><tr><td>1</td><td>&quot;S1_99432_chr19…</td></tr><tr><td>2</td><td>&quot;S1_36937_chr19…</td></tr><tr><td>3</td><td>&quot;S1_159_chr19&quot;</td></tr><tr><td>4</td><td>&quot;S1_94_chr19&quot;</td></tr><tr><td>5</td><td>&quot;S1_84586_chr19…</td></tr><tr><td>6</td><td>&quot;S1_49868_chr19…</td></tr><tr><td>7</td><td>&quot;S1_88719_chr19…</td></tr><tr><td>8</td><td>&quot;S1_91600_chr19…</td></tr><tr><td>9</td><td>&quot;S1_57697_chr19…</td></tr><tr><td>10</td><td>&quot;S1_88893_chr19…</td></tr><tr><td>11</td><td>&quot;S1_51149_chr19…</td></tr><tr><td>&hellip;</td><td>&hellip;</td></tr><tr><td>1106</td><td>&quot;S1_96295_chr19…</td></tr><tr><td>1107</td><td>&quot;S1_71014_chr19…</td></tr><tr><td>1108</td><td>&quot;S1_51087_chr19…</td></tr><tr><td>1109</td><td>&quot;S1_34575_chr19…</td></tr><tr><td>1110</td><td>&quot;S1_75483_chr19…</td></tr><tr><td>1111</td><td>&quot;S1_69585_chr19…</td></tr><tr><td>1112</td><td>&quot;S1_87418_chr19…</td></tr><tr><td>1113</td><td>&quot;S1_70326_chr19…</td></tr><tr><td>1114</td><td>&quot;S1_88_chr19&quot;</td></tr><tr><td>1115</td><td>&quot;S1_50909_chr19…</td></tr><tr><td>1116</td><td>&quot;S1_19118_chr19…</td></tr><tr><td>1117</td><td>&quot;S1_92624_chr19…</td></tr></tbody></table></div>"
      ],
      "text/plain": [
       "shape: (1_118, 2)\n",
       "┌───────┬────────────────┐\n",
       "│ index ┆ read-name      │\n",
       "│ ---   ┆ ---            │\n",
       "│ i64   ┆ str            │\n",
       "╞═══════╪════════════════╡\n",
       "│ 0     ┆ S1_12271_chr19 │\n",
       "│ 1     ┆ S1_99432_chr19 │\n",
       "│ 2     ┆ S1_36937_chr19 │\n",
       "│ 3     ┆ S1_159_chr19   │\n",
       "│ 4     ┆ S1_94_chr19    │\n",
       "│ …     ┆ …              │\n",
       "│ 1113  ┆ S1_70326_chr19 │\n",
       "│ 1114  ┆ S1_88_chr19    │\n",
       "│ 1115  ┆ S1_50909_chr19 │\n",
       "│ 1116  ┆ S1_19118_chr19 │\n",
       "│ 1117  ┆ S1_92624_chr19 │\n",
       "└───────┴────────────────┘"
      ]
     },
     "execution_count": 4,
     "metadata": {},
     "output_type": "execute_result"
    }
   ],
   "source": [
    "df_names"
   ]
  },
  {
   "cell_type": "code",
   "execution_count": 8,
   "metadata": {},
   "outputs": [],
   "source": [
    "df_discarded = (\n",
    "    pl.read_csv(NO_MATCH_PATH)\n",
    "    .join(\n",
    "        df_names.select(\n",
    "            pl.col(\"index\").alias(\"lhs-id\"),\n",
    "            pl.col(\"read-name\").alias(\"lhs-name\"),\n",
    "        ),\n",
    "        on=\"lhs-id\",\n",
    "    )\n",
    "    .join(\n",
    "        df_names.select(\n",
    "            pl.col(\"index\").alias(\"rhs-id\"), pl.col(\"read-name\").alias(\"rhs-name\")\n",
    "        ),\n",
    "        on=\"rhs-id\",\n",
    "    )\n",
    "    .select(\n",
    "        pl.col(\"lhs-id\"),\n",
    "        pl.col(\"rhs-id\"),\n",
    "        pl.col(\"lhs-name\").alias(\"query-name\"),\n",
    "        pl.col(\"rhs-name\").alias(\"target-name\"),\n",
    "        pl.col(\"reason\"),\n",
    "    )\n",
    ")"
   ]
  },
  {
   "cell_type": "code",
   "execution_count": 9,
   "metadata": {},
   "outputs": [],
   "source": [
    "df_minimap2 = util.create_annotated_overlaps_from_ava(\n",
    "    df_overlaps=util.load_paf_df(MINIMAP2_OVERLAPS),\n",
    "    df_origins=util.load_origins_df(ORIGNS_PATH),\n",
    ")"
   ]
  },
  {
   "cell_type": "code",
   "execution_count": 17,
   "metadata": {},
   "outputs": [
    {
     "data": {
      "text/html": [
       "<div><style>\n",
       ".dataframe > thead > tr,\n",
       ".dataframe > tbody > tr {\n",
       "  text-align: right;\n",
       "  white-space: pre-wrap;\n",
       "}\n",
       "</style>\n",
       "<small>shape: (8, 5)</small><table border=\"1\" class=\"dataframe\"><thead><tr><th>query-name</th><th>target-name</th><th>lhs-id</th><th>rhs-id</th><th>reason</th></tr><tr><td>str</td><td>str</td><td>i64</td><td>i64</td><td>str</td></tr></thead><tbody><tr><td>&quot;S1_57697_chr19…</td><td>&quot;S1_66532_chr19…</td><td>9</td><td>729</td><td>&quot;large-distance…</td></tr><tr><td>&quot;S1_34490_chr19…</td><td>&quot;S1_85428_chr19…</td><td>113</td><td>42</td><td>&quot;empty-chain&quot;</td></tr><tr><td>&quot;S1_43491_chr19…</td><td>&quot;S1_91600_chr19…</td><td>126</td><td>8</td><td>&quot;empty-chain&quot;</td></tr><tr><td>&quot;S1_26579_chr19…</td><td>&quot;S1_7217_chr19&quot;</td><td>116</td><td>261</td><td>&quot;empty-chain&quot;</td></tr><tr><td>&quot;S1_32063_chr19…</td><td>&quot;S1_45652_chr19…</td><td>155</td><td>544</td><td>&quot;empty-chain&quot;</td></tr><tr><td>&quot;S1_44819_chr19…</td><td>&quot;S1_83566_chr19…</td><td>259</td><td>233</td><td>&quot;empty-chain&quot;</td></tr><tr><td>&quot;S1_102_chr19&quot;</td><td>&quot;S1_90645_chr19…</td><td>363</td><td>607</td><td>&quot;large-distance…</td></tr><tr><td>&quot;S1_54417_chr19…</td><td>&quot;S1_96902_chr19…</td><td>737</td><td>209</td><td>&quot;empty-chain&quot;</td></tr></tbody></table></div>"
      ],
      "text/plain": [
       "shape: (8, 5)\n",
       "┌────────────────┬────────────────┬────────┬────────┬────────────────┐\n",
       "│ query-name     ┆ target-name    ┆ lhs-id ┆ rhs-id ┆ reason         │\n",
       "│ ---            ┆ ---            ┆ ---    ┆ ---    ┆ ---            │\n",
       "│ str            ┆ str            ┆ i64    ┆ i64    ┆ str            │\n",
       "╞════════════════╪════════════════╪════════╪════════╪════════════════╡\n",
       "│ S1_57697_chr19 ┆ S1_66532_chr19 ┆ 9      ┆ 729    ┆ large-distance │\n",
       "│ S1_34490_chr19 ┆ S1_85428_chr19 ┆ 113    ┆ 42     ┆ empty-chain    │\n",
       "│ S1_43491_chr19 ┆ S1_91600_chr19 ┆ 126    ┆ 8      ┆ empty-chain    │\n",
       "│ S1_26579_chr19 ┆ S1_7217_chr19  ┆ 116    ┆ 261    ┆ empty-chain    │\n",
       "│ S1_32063_chr19 ┆ S1_45652_chr19 ┆ 155    ┆ 544    ┆ empty-chain    │\n",
       "│ S1_44819_chr19 ┆ S1_83566_chr19 ┆ 259    ┆ 233    ┆ empty-chain    │\n",
       "│ S1_102_chr19   ┆ S1_90645_chr19 ┆ 363    ┆ 607    ┆ large-distance │\n",
       "│ S1_54417_chr19 ┆ S1_96902_chr19 ┆ 737    ┆ 209    ┆ empty-chain    │\n",
       "└────────────────┴────────────────┴────────┴────────┴────────────────┘"
      ]
     },
     "execution_count": 17,
     "metadata": {},
     "output_type": "execute_result"
    }
   ],
   "source": [
    "df_minimap2.filter(pl.col(\"label\") == 1).select(\n",
    "    \"query-name\", \"target-name\"\n",
    ").unique().filter(pl.col(\"query-name\") != pl.col(\"target-name\")).join(\n",
    "    df_discarded, on=[\"query-name\", \"target-name\"]\n",
    ")"
   ]
  }
 ],
 "metadata": {
  "kernelspec": {
   "display_name": "venv",
   "language": "python",
   "name": "python3"
  },
  "language_info": {
   "codemirror_mode": {
    "name": "ipython",
    "version": 3
   },
   "file_extension": ".py",
   "mimetype": "text/x-python",
   "name": "python",
   "nbconvert_exporter": "python",
   "pygments_lexer": "ipython3",
   "version": "3.11.4"
  }
 },
 "nbformat": 4,
 "nbformat_minor": 2
}
